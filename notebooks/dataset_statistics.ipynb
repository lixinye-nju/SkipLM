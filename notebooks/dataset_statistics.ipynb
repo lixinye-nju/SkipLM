{
 "cells": [
  {
   "cell_type": "code",
   "execution_count": 5,
   "id": "db420c7e-83c2-4ecc-9019-04fdd7e9f4a6",
   "metadata": {},
   "outputs": [],
   "source": [
    "PROJECT_PATH = \"/home/lixy/workspace/SkipLM\""
   ]
  },
  {
   "cell_type": "code",
   "execution_count": 6,
   "id": "f24a1f04-f82c-4a79-bcb2-589c99440d3b",
   "metadata": {},
   "outputs": [],
   "source": [
    "# Load dataset and tokenizer\n",
    "import os\n",
    "from datasets import load_dataset\n",
    "from transformers import AutoTokenizer, AutoModelForCausalLM\n",
    "\n",
    "\n",
    "tokenizer = AutoTokenizer.from_pretrained(\"Qwen/Qwen2.5-72B-Instruct\")# dataset = load_dataset(\"data/opc-sft-stage2/evol_instruct\", split=\"train\")\"train\")\n",
    "\n",
    "\n",
    "def print_subset_stats(path: str, subset: str):\n",
    "    dataset = load_dataset(os.path.join(path, subset), split=\"train\")\n",
    "    def get_num_tokens(text: str, tokenizer: AutoTokenizer):\n",
    "        return len(tokenizer(text).input_ids)\n",
    "    \n",
    "    dataset = dataset.map(\n",
    "        lambda x: {\n",
    "            \"num_instruction_tokens\": get_num_tokens(x[\"instruction\"], tokenizer),\n",
    "            \"num_output_tokens\": get_num_tokens(x[\"output\"], tokenizer)\n",
    "        },\n",
    "        num_proc=128\n",
    "    )\n",
    "    # %%\n",
    "    instruction_tokens = dataset[\"num_instruction_tokens\"]\n",
    "    output_tokens = dataset[\"num_output_tokens\"]\n",
    "    #%%\n",
    "    import numpy as np \n",
    "    \n",
    "    print(f\"[{subset}] mean tokens of instruction: {np.mean(instruction_tokens)}\")\n",
    "    print(f\"[{subset}] mean tokens of output: {np.mean(output_tokens)}\")\n",
    "    # %%\n",
    "    print(f\"[{subset}] p99 tokens of instruction: {np.percentile(instruction_tokens, 99)}\")\n",
    "    print(f\"[{subset}] p99 tokens of output: {np.percentile(output_tokens, 99)}\")"
   ]
  },
  {
   "cell_type": "code",
   "execution_count": 8,
   "id": "13582449-fb5e-4c67-9ffd-9c0007a9fb80",
   "metadata": {},
   "outputs": [
    {
     "data": {
      "application/vnd.jupyter.widget-view+json": {
       "model_id": "ad8d7a7b2b0642e387cd5b767c0206b5",
       "version_major": 2,
       "version_minor": 0
      },
      "text/plain": [
       "Map (num_proc=128):   0%|                                                                                     …"
      ]
     },
     "metadata": {},
     "output_type": "display_data"
    },
    {
     "name": "stdout",
     "output_type": "stream",
     "text": [
      "[educational_instruct] mean tokens of instruction: 34.69028052554152\n",
      "[educational_instruct] mean tokens of output: 101.86909653528129\n",
      "[educational_instruct] p99 tokens of instruction: 129.22999999999593\n",
      "[educational_instruct] p99 tokens of output: 342.0\n"
     ]
    }
   ],
   "source": [
    "print_subset_stats(path=os.path.join(PROJECT_PATH, \"data/opc-sft-stage2\"), subset=\"educational_instruct\")"
   ]
  },
  {
   "cell_type": "code",
   "execution_count": 9,
   "id": "4716542b-e9bf-425c-a16d-07d2901d8157",
   "metadata": {},
   "outputs": [
    {
     "data": {
      "application/vnd.jupyter.widget-view+json": {
       "model_id": "f4f0d8d0da5142cfb233b651ae7d9e89",
       "version_major": 2,
       "version_minor": 0
      },
      "text/plain": [
       "Map (num_proc=128):   0%|                                                                                     …"
      ]
     },
     "metadata": {},
     "output_type": "display_data"
    },
    {
     "name": "stdout",
     "output_type": "stream",
     "text": [
      "[evol_instruct] mean tokens of instruction: 184.62217245442199\n",
      "[evol_instruct] mean tokens of output: 370.5421242456131\n",
      "[evol_instruct] p99 tokens of instruction: 2255.179999999993\n",
      "[evol_instruct] p99 tokens of output: 983.179999999993\n"
     ]
    }
   ],
   "source": [
    "print_subset_stats(path=os.path.join(PROJECT_PATH, \"data/opc-sft-stage2\"), subset=\"evol_instruct\")"
   ]
  },
  {
   "cell_type": "code",
   "execution_count": 10,
   "id": "4c149c97-8a05-4f02-8cd0-1c6994c2a5e8",
   "metadata": {},
   "outputs": [
    {
     "data": {
      "application/vnd.jupyter.widget-view+json": {
       "model_id": "d66a31cf613147aa8925612c0bf01935",
       "version_major": 2,
       "version_minor": 0
      },
      "text/plain": [
       "Map (num_proc=128):   0%|                                                                                     …"
      ]
     },
     "metadata": {},
     "output_type": "display_data"
    },
    {
     "name": "stdout",
     "output_type": "stream",
     "text": [
      "[mceval_instruct] mean tokens of instruction: 227.30181120106835\n",
      "[mceval_instruct] mean tokens of output: 637.8425006259912\n",
      "[mceval_instruct] p99 tokens of instruction: 449.0\n",
      "[mceval_instruct] p99 tokens of output: 1374.0\n"
     ]
    }
   ],
   "source": [
    "print_subset_stats(path=os.path.join(PROJECT_PATH, \"data/opc-sft-stage2\"), subset=\"mceval_instruct\")"
   ]
  },
  {
   "cell_type": "code",
   "execution_count": 11,
   "id": "4f962b10-ddfd-4d74-b295-7704b4ef2a7b",
   "metadata": {},
   "outputs": [
    {
     "data": {
      "application/vnd.jupyter.widget-view+json": {
       "model_id": "4a879a1734c14bbc910d21dacbfbbbbd",
       "version_major": 2,
       "version_minor": 0
      },
      "text/plain": [
       "Map (num_proc=128):   0%|                                                                                     …"
      ]
     },
     "metadata": {},
     "output_type": "display_data"
    },
    {
     "name": "stdout",
     "output_type": "stream",
     "text": [
      "[package_instruct] mean tokens of instruction: 368.1339393833032\n",
      "[package_instruct] mean tokens of output: 483.42384888530097\n",
      "[package_instruct] p99 tokens of instruction: 723.0\n",
      "[package_instruct] p99 tokens of output: 888.0\n"
     ]
    }
   ],
   "source": [
    "print_subset_stats(path=os.path.join(PROJECT_PATH, \"data/opc-sft-stage2\"), subset=\"package_instruct\")"
   ]
  },
  {
   "cell_type": "code",
   "execution_count": null,
   "id": "3ff4fa83-6c02-4e32-9726-b33dcd98cb61",
   "metadata": {},
   "outputs": [],
   "source": []
  }
 ],
 "metadata": {
  "kernelspec": {
   "display_name": "Python 3 (ipykernel)",
   "language": "python",
   "name": "python3"
  },
  "language_info": {
   "codemirror_mode": {
    "name": "ipython",
    "version": 3
   },
   "file_extension": ".py",
   "mimetype": "text/x-python",
   "name": "python",
   "nbconvert_exporter": "python",
   "pygments_lexer": "ipython3",
   "version": "3.11.9"
  }
 },
 "nbformat": 4,
 "nbformat_minor": 5
}
